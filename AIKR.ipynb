{
  "nbformat": 4,
  "nbformat_minor": 0,
  "metadata": {
    "colab": {
      "provenance": [],
      "authorship_tag": "ABX9TyNCZUX8L3hVBkQkAnwv7Fug",
      "include_colab_link": true
    },
    "kernelspec": {
      "name": "python3",
      "display_name": "Python 3"
    },
    "language_info": {
      "name": "python"
    }
  },
  "cells": [
    {
      "cell_type": "markdown",
      "metadata": {
        "id": "view-in-github",
        "colab_type": "text"
      },
      "source": [
        "<a href=\"https://colab.research.google.com/github/Igvhore/AI_test/blob/main/AIKR.ipynb\" target=\"_parent\"><img src=\"https://colab.research.google.com/assets/colab-badge.svg\" alt=\"Open In Colab\"/></a>"
      ]
    },
    {
      "cell_type": "markdown",
      "source": [
        "1)\tРабота с библиотекой numpy. Создайте вектор целых чисел от 0 до 9 включительно длиной 20 чисел. Найти наиболее часто встречающееся значение в массиве и выведите его."
      ],
      "metadata": {
        "id": "mLz6-ffLo_F2"
      }
    },
    {
      "cell_type": "code",
      "source": [
        "import numpy as np"
      ],
      "metadata": {
        "id": "GadUMlcQpS52"
      },
      "execution_count": 66,
      "outputs": []
    },
    {
      "cell_type": "code",
      "source": [
        "vector = np.array([0,3,5,3,7,3,6,9,7,3,4,2,1,4,4,6,7,2,8,0])\n",
        "unique, counts = np.unique(vector, return_counts=True)\n",
        "print(unique[np.argmax(counts)])"
      ],
      "metadata": {
        "colab": {
          "base_uri": "https://localhost:8080/"
        },
        "id": "SNgj6UuApT3N",
        "outputId": "816e4dd1-737d-4ab2-feb8-2770cf0e2793"
      },
      "execution_count": 7,
      "outputs": [
        {
          "output_type": "stream",
          "name": "stdout",
          "text": [
            "3\n"
          ]
        }
      ]
    },
    {
      "cell_type": "markdown",
      "source": [
        "2)\tРабота с библиотекой Pandas. Загрузить файл ‘EcommercePurchases'  - электронные покупки.\n",
        "*   Сколько человек имеют должность «Lawyer»\n",
        "*   Сколько человек имеют AmericanExpress в качестве поставщика кредитных карт (CC Provider) и совершили покупку выше $95 (PurchasePrice)\n",
        "\n"
      ],
      "metadata": {
        "id": "3MzBkVyEvEU0"
      }
    },
    {
      "cell_type": "code",
      "source": [
        "import pandas as pd"
      ],
      "metadata": {
        "id": "OMTCeCiVvOn6"
      },
      "execution_count": 9,
      "outputs": []
    },
    {
      "cell_type": "code",
      "source": [
        "purchases = pd.read_csv('Ecommerce Purchases.csv', delimiter=',')"
      ],
      "metadata": {
        "id": "BRiqBMIyvmNI"
      },
      "execution_count": 30,
      "outputs": []
    },
    {
      "cell_type": "code",
      "source": [
        "print (len(purchases[purchases.Job == 'Lawyer']))"
      ],
      "metadata": {
        "colab": {
          "base_uri": "https://localhost:8080/"
        },
        "id": "Eom3qnuFw5PS",
        "outputId": "3ae3f784-8b06-49dd-c7dd-1d5f18de5d19"
      },
      "execution_count": 34,
      "outputs": [
        {
          "output_type": "stream",
          "name": "stdout",
          "text": [
            "30\n"
          ]
        }
      ]
    },
    {
      "cell_type": "code",
      "source": [
        "print(len(purchases[(purchases['CC Provider'] == 'American Express') & (purchases['Purchase Price'] > 95)]))"
      ],
      "metadata": {
        "colab": {
          "base_uri": "https://localhost:8080/"
        },
        "id": "1flSXuQn1dnO",
        "outputId": "ac9479bd-3b11-47b2-b2f4-aa5a98ed66dd"
      },
      "execution_count": 53,
      "outputs": [
        {
          "output_type": "stream",
          "name": "stdout",
          "text": [
            "39\n"
          ]
        }
      ]
    },
    {
      "cell_type": "markdown",
      "source": [
        "3) Даны 6 точек и отрезок от 1 до 100. Построить график функции:\n",
        "\n",
        "*   проходящий через все точки\n",
        "*   график двух функций: первая парабола через первые 3 точки, вторая парабола через следующие 3 точки\n"
      ],
      "metadata": {
        "id": "fYnKbYkC5bdo"
      }
    },
    {
      "cell_type": "code",
      "source": [
        "import matplotlib.pyplot as plt"
      ],
      "metadata": {
        "id": "x5yw8VhP6TYb"
      },
      "execution_count": 57,
      "outputs": []
    },
    {
      "cell_type": "code",
      "source": [
        "X = np.random.randint(1,101,6)\n",
        "Y = np.random.randint(1,101,6)\n",
        "\n",
        "X.sort()\n",
        "\n",
        "plt.plot(X, Y)\n",
        "\n",
        "X_first = X[:3]\n",
        "\n",
        "Y = X_first ** 2 + 5 * X_first - 10\n",
        "plt.plot(X_first, Y)\n",
        "\n",
        "X_second = X[3:]\n",
        "\n",
        "Y = X_second ** 2 + 5 * X_second - 10\n",
        "plt.plot(X_second, Y)"
      ],
      "metadata": {
        "colab": {
          "base_uri": "https://localhost:8080/",
          "height": 447
        },
        "id": "c2dSpC9Q1jYq",
        "outputId": "89eaba36-9ba9-4347-9d54-076465750440"
      },
      "execution_count": 85,
      "outputs": [
        {
          "output_type": "execute_result",
          "data": {
            "text/plain": [
              "[<matplotlib.lines.Line2D at 0x79f8cbf969b0>]"
            ]
          },
          "metadata": {},
          "execution_count": 85
        },
        {
          "output_type": "display_data",
          "data": {
            "text/plain": [
              "<Figure size 640x480 with 1 Axes>"
            ],
            "image/png": "[encoded data removed]"
          },
          "metadata": {}
        }
      ]
    },
    {
      "cell_type": "markdown",
      "source": [
        "Задача: Используя данные о заболеваемости раком груди, постройте модель KNN для предсказания, является ли новая образцы раковым или нет.\n",
        "\n",
        "Набор данных: \"Breast Cancer Wisconsin (Diagnostic) Data Set\" из репозитория UCI Machine Learning\n"
      ],
      "metadata": {
        "id": "oBbcCYiREBK9"
      }
    },
    {
      "cell_type": "code",
      "source": [
        "!pip install ucimlrepo"
      ],
      "metadata": {
        "colab": {
          "base_uri": "https://localhost:8080/"
        },
        "id": "DaBHsP87D54w",
        "outputId": "90543e4c-4541-4ab2-bca5-0ec5c59d6720"
      },
      "execution_count": 87,
      "outputs": [
        {
          "output_type": "stream",
          "name": "stdout",
          "text": [
            "Collecting ucimlrepo\n",
            "  Using cached ucimlrepo-0.0.6-py3-none-any.whl (8.0 kB)\n",
            "Installing collected packages: ucimlrepo\n",
            "Successfully installed ucimlrepo-0.0.6\n"
          ]
        }
      ]
    },
    {
      "cell_type": "code",
      "source": [
        "from ucimlrepo import fetch_ucirepo\n",
        "from sklearn.neighbors import KNeighborsClassifier\n",
        "from sklearn.metrics import accuracy_score\n",
        "from sklearn.model_selection import train_test_split\n",
        "from sklearn.metrics import confusion_matrix\n",
        "\n",
        "# fetch dataset\n",
        "breast_cancer_wisconsin_diagnostic = fetch_ucirepo(id=17)\n",
        "\n",
        "# data (as pandas dataframes)\n",
        "X = breast_cancer_wisconsin_diagnostic.data.features\n",
        "y = breast_cancer_wisconsin_diagnostic.data.targets"
      ],
      "metadata": {
        "id": "wbmpCD3GE5eL"
      },
      "execution_count": 99,
      "outputs": []
    },
    {
      "cell_type": "code",
      "source": [
        "X_train, X_test, y_train, y_test = train_test_split(X, y, test_size=0.2)\n",
        "\n",
        "print(\"Размер обучающего набора:\", len(X_train))\n",
        "print(\"Размер тестового набора:\", len(X_test))"
      ],
      "metadata": {
        "colab": {
          "base_uri": "https://localhost:8080/"
        },
        "id": "AgokuojDFVCE",
        "outputId": "0b32a2ed-b480-4735-8b87-abc07ae7f91d"
      },
      "execution_count": 100,
      "outputs": [
        {
          "output_type": "stream",
          "name": "stdout",
          "text": [
            "Размер обучающего набора: 455\n",
            "Размер тестового набора: 114\n"
          ]
        }
      ]
    },
    {
      "cell_type": "code",
      "source": [
        "knn = KNeighborsClassifier(5)\n",
        "\n",
        "knn.fit(X_train, y_train)\n",
        "\n",
        "y_pred = knn.predict(X_test)\n",
        "accuracy = accuracy_score(y_test, y_pred)\n",
        "\n",
        "print(\"Точность на тестовом наборе данных: \", accuracy)"
      ],
      "metadata": {
        "colab": {
          "base_uri": "https://localhost:8080/"
        },
        "id": "aOaw1GzSFZza",
        "outputId": "a3cabcc2-8331-4594-d6c1-c37ece3c3673"
      },
      "execution_count": 101,
      "outputs": [
        {
          "output_type": "stream",
          "name": "stdout",
          "text": [
            "Точность на тестовом наборе данных:  0.9385964912280702\n"
          ]
        },
        {
          "output_type": "stream",
          "name": "stderr",
          "text": [
            "/usr/local/lib/python3.10/dist-packages/sklearn/neighbors/_classification.py:215: DataConversionWarning: A column-vector y was passed when a 1d array was expected. Please change the shape of y to (n_samples,), for example using ravel().\n",
            "  return self._fit(X, y)\n"
          ]
        }
      ]
    },
    {
      "cell_type": "code",
      "source": [
        "import seaborn as sns\n",
        "import matplotlib.pyplot as plt\n",
        "\n",
        "cm = confusion_matrix(y_test, y_pred)\n",
        "\n",
        "plt.figure(figsize=(10,7))\n",
        "sns.heatmap(cm, annot=True, cmap='Blues')\n",
        "plt.xlabel('Predicted')\n",
        "plt.ylabel('Actual')"
      ],
      "metadata": {
        "colab": {
          "base_uri": "https://localhost:8080/",
          "height": 636
        },
        "id": "SSJgVy5cF_bG",
        "outputId": "c45371f4-8592-4495-b546-bf358e42cb55"
      },
      "execution_count": 102,
      "outputs": [
        {
          "output_type": "execute_result",
          "data": {
            "text/plain": [
              "Text(95.72222222222221, 0.5, 'Actual')"
            ]
          },
          "metadata": {},
          "execution_count": 102
        },
        {
          "output_type": "display_data",
          "data": {
            "text/plain": [
              "<Figure size 1000x700 with 2 Axes>"
            ],
            "image/png": "[encoded data removed]"
          },
          "metadata": {}
        }
      ]
    }
  ]
}